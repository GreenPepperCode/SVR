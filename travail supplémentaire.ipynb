{
 "cells": [
  {
   "cell_type": "code",
   "execution_count": 1,
   "metadata": {},
   "outputs": [],
   "source": [
    "import pandas as pd\n",
    "from sklearn.model_selection import train_test_split, GridSearchCV, StratifiedKFold\n",
    "from sklearn.svm import SVR\n",
    "from sklearn.preprocessing import StandardScaler\n",
    "from sklearn.pipeline import Pipeline\n",
    "from sklearn.metrics import mean_squared_error\n",
    "from sklearn.linear_model import ElasticNet"
   ]
  },
  {
   "cell_type": "code",
   "execution_count": 2,
   "metadata": {},
   "outputs": [],
   "source": [
    "# Charger les données depuis le fichier CSV\n",
    "data = pd.read_csv(r\"terrorist-attacks new.csv\")"
   ]
  },
  {
   "cell_type": "code",
   "execution_count": 3,
   "metadata": {},
   "outputs": [],
   "source": [
    "# Séparer les caractéristiques (features) et la variable cible\n",
    "X = data[['Entity', 'Year']]  # Ajoutez d'autres caractéristiques si nécessaire\n",
    "y = data['Terrorist attacks']\n"
   ]
  },
  {
   "cell_type": "code",
   "execution_count": null,
   "metadata": {},
   "outputs": [],
   "source": [
    "# Diviser les données en ensembles d'entraînement et de test\n",
    "X_train, X_test, y_train, y_test = train_test_split(X, y, test_size=0.2, random_state=42)"
   ]
  },
  {
   "cell_type": "code",
   "execution_count": null,
   "metadata": {},
   "outputs": [],
   "source": [
    "# Créer un pipeline pour la prétraitement des données et la construction du modèle\n",
    "pipeline = Pipeline([\n",
    "    ('scaler', StandardScaler()),  # Standardiser les caractéristiques\n",
    "    ('regressor', SVR()),  # Utiliser le SVR comme régresseur initial\n",
    "])\n",
    "\n",
    "# Définir les paramètres à optimiser avec GridSearchCV\n",
    "param_grid = {\n",
    "    'regressor': [SVR()],\n",
    "    'regressor__kernel': ['linear', 'poly', 'rbf', 'sigmoid'],\n",
    "    'regressor__C': [0.1, 1, 10, 100],\n",
    "    'regressor__gamma': ['scale', 'auto'],\n",
    "    'regressor__epsilon': [0.1, 0.01, 0.001],\n",
    "    'regressor__degree': [2, 3, 4]\n",
    "}\n",
    "\n",
    "# Créer l'objet GridSearchCV avec la validation croisée stratifiée\n",
    "grid_search = GridSearchCV(pipeline, param_grid, cv=StratifiedKFold(n_splits=10), scoring='neg_mean_squared_error', verbose=1)"
   ]
  }
 ],
 "metadata": {
  "kernelspec": {
   "display_name": "Python 3",
   "language": "python",
   "name": "python3"
  },
  "language_info": {
   "codemirror_mode": {
    "name": "ipython",
    "version": 3
   },
   "file_extension": ".py",
   "mimetype": "text/x-python",
   "name": "python",
   "nbconvert_exporter": "python",
   "pygments_lexer": "ipython3",
   "version": "3.12.2"
  }
 },
 "nbformat": 4,
 "nbformat_minor": 2
}
